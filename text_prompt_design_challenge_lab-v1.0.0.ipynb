{
 "cells": [
  {
   "cell_type": "markdown",
   "metadata": {
    "id": "VEqbX8OhE8y9"
   },
   "source": [
    "# Text Prompt Design: Challenge Lab\n",
    "\n",
    "## Overview\n",
    "\n",
    "This challenge lab is designed to test your knowledge of calling Gemini and utilizing a few fundamental text prompt design techniques.\n",
    "\n",
    "Two featured guides on prompting from the Google Cloud documentation are:\n",
    "\n",
    "1. [Overview of prompting strategies](https://cloud.google.com/vertex-ai/generative-ai/docs/learn/prompts/prompt-design-strategies) from the Generative AI on Gen AI documentation.\n",
    "\n",
    "2. [Prompt design strategies](https://ai.google.dev/gemini-api/docs/prompting-strategies) from the Gemini API documentation.\n",
    "\n",
    "Both contain good tips. You are encouraged to **bookmark them**.\n",
    "\n",
    "## Objective\n",
    "You will demonstrate your ability to:\n",
    "\n",
    "- Initialize Gen AI in your environment\n",
    "- Load a generative model\n",
    "- Guide model output with a persona\n",
    "- Extract information to a schema\n",
    "- Stay on topic with fallback responses\n",
    "- Use examples to influence the model's response\n",
    "\n",
    "Some of the following Python notebook cells have missing or incomplete code sections and tasks that need to be completed, indicated by the code comments starting with `# TODO`. Your challenge is to complete each cell, run it to test for correctness, and then move on. When all the cells are working, you have completed the challenge.\n",
    "\n",
    "**Note:** If you need help, [this notebook demonstrates getting started using Gemini in Python](https://github.com/GoogleCloudPlatform/generative-ai/blob/main/gemini/getting-started/intro_gemini_python.ipynb)."
   ]
  },
  {
   "cell_type": "markdown",
   "metadata": {
    "id": "N5afkyDMSBW5"
   },
   "source": [
    "## Task 1. Install, import & initialize the Gen AI SDK and a generative model\n",
    "\n",
    "1. Install the Gen AI SDK."
   ]
  },
  {
   "cell_type": "code",
   "execution_count": 2,
   "metadata": {
    "id": "kc4WxYmLSBW5",
    "tags": []
   },
   "outputs": [],
   "source": [
    "# TODO: Complete the following pip command\n",
    "!pip install --upgrade --quiet google-cloud-aiplatform"
   ]
  },
  {
   "cell_type": "markdown",
   "metadata": {
    "id": "BuQwwRiniVFG"
   },
   "source": [
    "2. Restart your notebook kernel.\n",
    "3. Import the following:\n",
    "- the Gen AI SDK\n",
    "- the class to instantiate a generative model from the Gen AI generative models module"
   ]
  },
  {
   "cell_type": "code",
   "execution_count": 7,
   "metadata": {
    "tags": []
   },
   "outputs": [
    {
     "data": {
      "text/plain": [
       "{'status': 'ok', 'restart': True}"
      ]
     },
     "execution_count": 7,
     "metadata": {},
     "output_type": "execute_result"
    }
   ],
   "source": [
    "import IPython\n",
    "from vertexai.generative_models import GenerativeModel, GenerationConfig\n",
    "\n",
    "app = IPython.Application.instance()\n",
    "app.kernel.do_shutdown(True)"
   ]
  },
  {
   "cell_type": "code",
   "execution_count": 1,
   "metadata": {
    "id": "kpdnPWaTK27C",
    "tags": []
   },
   "outputs": [],
   "source": [
    "# TODO: Complete the imports\n",
    "import IPython\n",
    "from vertexai.generative_models import GenerativeModel, GenerationConfig"
   ]
  },
  {
   "cell_type": "markdown",
   "metadata": {
    "id": "6Fom0ZkMSBW6"
   },
   "source": [
    "4. Initialize Gen AI with your project ID and a location (you can use like `us-central1`)."
   ]
  },
  {
   "cell_type": "code",
   "execution_count": 2,
   "metadata": {
    "id": "LCaCx6PLSBW6",
    "tags": []
   },
   "outputs": [],
   "source": [
    "# TODO: Insert the required steps here\n",
    "PROJECT_ID = \"qwiklabs-gcp-00-7d115ed3d833\"  # @param {type:\"string\"}\n",
    "LOCATION = \"us-central1\"  # @param {type:\"string\"}\n",
    "import vertexai\n",
    "vertexai.init(project=PROJECT_ID, location=LOCATION)"
   ]
  },
  {
   "cell_type": "markdown",
   "metadata": {
    "id": "O8DUcgKJK27C"
   },
   "source": [
    "5. Instantiate a generative model and save it to the `generative_model` variable. For this notebook, use `gemini-2.0-flash` as your model version. When instantiating the model, pass a `generation_config` parameter with the temperature set to 0."
   ]
  },
  {
   "cell_type": "code",
   "execution_count": 5,
   "metadata": {
    "id": "2998506fe6d1",
    "tags": []
   },
   "outputs": [],
   "source": [
    "# TODO: Insantiate a \"gemini-2.0-flash\" model with a configured temperature of 0.\n",
    "\n",
    "generative_model = GenerativeModel(\n",
    "    model_name=\"gemini-2.0-flash-001\",\n",
    "    generation_config={\"temperature\": 0}\n",
    ")"
   ]
  },
  {
   "cell_type": "markdown",
   "metadata": {
    "id": "h3YN2rf1K27C"
   },
   "source": [
    "6. Complete the TODO's in this function, which you will use for the rest of the lab:"
   ]
  },
  {
   "cell_type": "code",
   "execution_count": 6,
   "metadata": {
    "id": "joXl2V2JK27D",
    "tags": []
   },
   "outputs": [
    {
     "name": "stdout",
     "output_type": "stream",
     "text": [
      "The sky is blue due to a phenomenon called **Rayleigh scattering**. Here's a breakdown:\n",
      "\n",
      "*   **Sunlight and its Colors:** Sunlight is actually made up of all the colors of the rainbow.\n",
      "\n",
      "*   **Entering the Atmosphere:** When sunlight enters the Earth's atmosphere, it collides with tiny air molecules (mostly nitrogen and oxygen).\n",
      "\n",
      "*   **Scattering of Light:** This collision causes the sunlight to scatter in different directions.\n",
      "\n",
      "*   **Rayleigh Scattering:** Rayleigh scattering is the type of scattering that affects light with shorter wavelengths (like blue and violet) much more strongly than light with longer wavelengths (like red and orange).\n",
      "\n",
      "*   **Why Blue, Not Violet?** Violet light is scattered even more than blue light. However, the sun emits less violet light than blue light, and our eyes are also more sensitive to blue light. As a result, we perceive the sky as blue.\n",
      "\n",
      "**In simpler terms:**\n",
      "\n",
      "Imagine throwing a handful of marbles (sunlight) at a bunch of small obstacles (air molecules). The smaller marbles (blue and violet light) are more likely to bounce off in different directions than the larger marbles (red and orange light). Since blue light is scattered more, it spreads across the sky, making it appear blue to us.\n",
      "\n",
      "**Why sunsets are red/orange:**\n",
      "\n",
      "At sunset, the sunlight has to travel through a much greater distance of the atmosphere to reach our eyes. This means that most of the blue light has already been scattered away by the time the sunlight reaches us. The remaining light is mostly red and orange, which is why sunsets appear in those colors.\n"
     ]
    }
   ],
   "source": [
    "def print_response(prompt):\n",
    "\n",
    "    # TODO: Complete this line to generate a response to the prompt:\n",
    "    response = generative_model.generate_content(prompt)\n",
    "\n",
    "    # TODO: Complete this line to print only the text of the model's response,\n",
    "    # not the additional response metadata.\n",
    "    print(response.text)\n",
    "    \n",
    "print_response(\"Why is the sky blue?\")"
   ]
  },
  {
   "cell_type": "markdown",
   "metadata": {
    "id": "kEAJ0ipmbndQ"
   },
   "source": [
    "## Task 2. Personas\n",
    "\n",
    "1. Run the following cell to see the default response to this prompt.\n",
    "\n",
    "2. Then tweak the prompt by asking the model to take on the persona of an **energetic, inspiring personal trainer** who can get users **excited to work out their leg muscles**. Note the difference in vocabulary and tone."
   ]
  },
  {
   "cell_type": "code",
   "execution_count": 7,
   "metadata": {
    "id": "UEo0QhauK27D",
    "tags": []
   },
   "outputs": [
    {
     "name": "stdout",
     "output_type": "stream",
     "text": [
      "Okay, let's break down some effective leg exercises, categorized for different goals and fitness levels.  I'll include variations and tips to help you get the most out of your workouts.\n",
      "\n",
      "**I'll categorize them by:**\n",
      "\n",
      "*   **Compound Exercises (Multi-Joint):** These work multiple muscle groups simultaneously and are great for overall strength and muscle building.\n",
      "*   **Isolation Exercises (Single-Joint):** These focus on a specific muscle group.\n",
      "*   **Bodyweight Exercises:** Great for beginners or when you don't have access to equipment.\n",
      "*   **Plyometric Exercises:** Explosive movements that improve power and athleticism.\n",
      "\n",
      "**I. Compound Exercises (The Kings & Queens of Leg Day):**\n",
      "\n",
      "*   **Squats (The King):**\n",
      "    *   **Muscles Worked:** Quads, glutes, hamstrings, core.\n",
      "    *   **How to:** Stand with feet shoulder-width apart, toes slightly outward.  Lower your hips as if sitting in a chair, keeping your back straight and chest up.  Go as low as you comfortably can while maintaining good form (ideally, thighs parallel to the ground).  Drive through your heels to stand back up.\n",
      "    *   **Variations:**\n",
      "        *   **Bodyweight Squat:** No weight.\n",
      "        *   **Goblet Squat:** Hold a dumbbell or kettlebell close to your chest.\n",
      "        *   **Front Squat:** Barbell across the front of your shoulders.\n",
      "        *   **Back Squat (High Bar/Low Bar):** Barbell across your upper back.  High bar emphasizes quads, low bar emphasizes glutes and hamstrings.\n",
      "        *   **Overhead Squat:** Barbell held overhead (advanced).\n",
      "        *   **Box Squat:** Squat down to a box or bench, pausing briefly before standing up.\n",
      "    *   **Tips:**\n",
      "        *   Keep your core engaged.\n",
      "        *   Maintain a neutral spine.\n",
      "        *   Don't let your knees cave inward.\n",
      "        *   Control the descent and ascent.\n",
      "\n",
      "*   **Deadlifts:**\n",
      "    *   **Muscles Worked:** Hamstrings, glutes, lower back, quads, core, traps.\n",
      "    *   **How to:** Stand with feet hip-width apart, barbell in front of you.  Hinge at your hips, keeping your back straight, and grip the bar.  Lower your hips slightly, engage your lats, and lift the bar by extending your hips and knees simultaneously.  Keep the bar close to your body throughout the movement.  Lower the bar back to the ground with control.\n",
      "    *   **Variations:**\n",
      "        *   **Conventional Deadlift:** Standard stance.\n",
      "        *   **Sumo Deadlift:** Wide stance, hands inside your legs.  Emphasizes quads and glutes more.\n",
      "        *   **Romanian Deadlift (RDL):** Focuses on hamstrings and glutes.  Keep legs mostly straight (slight bend) and lower the bar by hinging at the hips, keeping your back straight.  Don't let the bar touch the ground.\n",
      "        *   **Trap Bar Deadlift:** Uses a trap bar (hex bar), which is easier on the lower back for some people.\n",
      "    *   **Tips:**\n",
      "        *   Maintain a straight back throughout the lift.\n",
      "        *   Engage your lats to keep the bar close to your body.\n",
      "        *   Drive through your heels.\n",
      "        *   Don't round your back.\n",
      "        *   Start with lighter weight and focus on form.\n",
      "\n",
      "*   **Lunges:**\n",
      "    *   **Muscles Worked:** Quads, glutes, hamstrings, calves, core.\n",
      "    *   **How to:** Step forward with one leg and lower your body until both knees are bent at a 90-degree angle.  Your front knee should be directly over your ankle, and your back knee should be close to the ground but not touching.  Push off with your front foot to return to the starting position.\n",
      "    *   **Variations:**\n",
      "        *   **Forward Lunge:** Step forward.\n",
      "        *   **Reverse Lunge:** Step backward.\n",
      "        *   **Walking Lunge:** Lunge forward, then step the back leg forward into another lunge.\n",
      "        *   **Lateral Lunge (Side Lunge):** Step to the side.\n",
      "        *   **Curtsy Lunge:** Step back and behind the other leg.\n",
      "        *   **Dumbbell Lunge:** Hold dumbbells in each hand.\n",
      "        *   **Barbell Lunge:** Barbell across your upper back.\n",
      "    *   **Tips:**\n",
      "        *   Keep your core engaged.\n",
      "        *   Maintain a straight back.\n",
      "        *   Don't let your front knee go past your toes.\n",
      "        *   Control the movement.\n",
      "\n",
      "*   **Leg Press:**\n",
      "    *   **Muscles Worked:** Quads, glutes, hamstrings, calves.\n",
      "    *   **How to:** Sit in the leg press machine with your feet shoulder-width apart on the platform.  Lower the platform by bending your knees, keeping your back flat against the seat.  Push the platform back up by extending your legs.\n",
      "    *   **Variations:**\n",
      "        *   **Different Foot Placement:** Higher foot placement emphasizes hamstrings and glutes; lower foot placement emphasizes quads.  Wider stance emphasizes inner thighs.\n",
      "    *   **Tips:**\n",
      "        *   Don't lock out your knees at the top of the movement.\n",
      "        *   Control the descent and ascent.\n",
      "        *   Keep your back flat against the seat.\n",
      "\n",
      "**II. Isolation Exercises:**\n",
      "\n",
      "*   **Leg Extensions:**\n",
      "    *   **Muscles Worked:** Quads (primarily).\n",
      "    *   **How to:** Sit in the leg extension machine and extend your legs until they are straight.  Lower the weight back down with control.\n",
      "    *   **Tips:**\n",
      "        *   Control the movement.\n",
      "        *   Don't lock out your knees at the top.\n",
      "\n",
      "*   **Hamstring Curls (Lying, Seated, Standing):**\n",
      "    *   **Muscles Worked:** Hamstrings (primarily).\n",
      "    *   **How to:** Lie face down on the hamstring curl machine and curl your heels towards your glutes.  Lower the weight back down with control.\n",
      "    *   **Tips:**\n",
      "        *   Control the movement.\n",
      "        *   Squeeze your hamstrings at the top of the movement.\n",
      "\n",
      "*   **Calf Raises (Standing, Seated):**\n",
      "    *   **Muscles Worked:** Calves (gastrocnemius and soleus).\n",
      "    *   **How to:** Stand on a raised platform (or the floor) and raise up onto your toes.  Lower back down with control.\n",
      "    *   **Variations:**\n",
      "        *   **Standing Calf Raise:** Works gastrocnemius more.\n",
      "        *   **Seated Calf Raise:** Works soleus more.\n",
      "        *   **Dumbbell Calf Raise:** Hold dumbbells in each hand.\n",
      "        *   **Leg Press Calf Raise:** Perform calf raises on the leg press machine.\n",
      "    *   **Tips:**\n",
      "        *   Squeeze your calves at the top of the movement.\n",
      "        *   Control the descent.\n",
      "\n",
      "*   **Glute Bridges/Hip Thrusts:**\n",
      "    *   **Muscles Worked:** Glutes, hamstrings, core.\n",
      "    *   **How to (Glute Bridge):** Lie on your back with your knees bent and feet flat on the floor.  Lift your hips off the ground, squeezing your glutes at the top.\n",
      "    *   **How to (Hip Thrust):** Similar to glute bridge, but your upper back is elevated on a bench.\n",
      "    *   **Variations:**\n",
      "        *   **Bodyweight Glute Bridge/Hip Thrust:** No weight.\n",
      "        *   **Barbell Glute Bridge/Hip Thrust:** Barbell across your hips.\n",
      "        *   **Single-Leg Glute Bridge/Hip Thrust:** Perform the exercise on one leg.\n",
      "    *   **Tips:**\n",
      "        *   Squeeze your glutes at the top of the movement.\n",
      "        *   Keep your core engaged.\n",
      "        *   Maintain a straight line from your knees to your shoulders.\n",
      "\n",
      "**III. Bodyweight Exercises (Great for Beginners & Home Workouts):**\n",
      "\n",
      "*   **Squats (as described above)**\n",
      "*   **Lunges (as described above)**\n",
      "*   **Glute Bridges (as described above)**\n",
      "*   **Calf Raises (as described above)**\n",
      "*   **Wall Sit:**\n",
      "    *   **Muscles Worked:** Quads, hamstrings, calves.\n",
      "    *   **How to:** Stand with your back against a wall and slide down until your thighs are parallel to the ground.  Hold this position for as long as you can.\n",
      "\n",
      "**IV. Plyometric Exercises (For Power & Explosiveness):**\n",
      "\n",
      "*   **Jump Squats:**\n",
      "    *   **How to:** Perform a squat and then explosively jump up into the air.  Land softly and immediately go into another squat.\n",
      "*   **Box Jumps:**\n",
      "    *   **How to:** Stand in front of a box and jump onto it.  Step or jump back down.\n",
      "*   **Lunge Jumps (Alternating):**\n",
      "    *   **How to:** Perform a lunge and then explosively jump up, switching legs in the air.\n",
      "*   **Plyometric Lunges:**\n",
      "    *   **How to:** Similar to lunge jumps, but focus on a shorter, quicker jump.\n",
      "*   **Single-Leg Hops:**\n",
      "    *   **How to:** Hop on one leg, focusing on power and control.\n",
      "\n",
      "**Important Considerations:**\n",
      "\n",
      "*   **Warm-up:** Always warm up before your leg workout with light cardio and dynamic stretching (e.g., leg swings, arm circles, torso twists).\n",
      "*   **Cool-down:** Cool down after your workout with static stretching (holding stretches for 30 seconds).\n",
      "*   **Form:** Proper form is crucial to prevent injuries.  If you're unsure about your form, consult with a qualified trainer.\n",
      "*   **Progression:** Gradually increase the weight, reps, or sets as you get stronger.\n",
      "*   **Rest:** Allow your muscles to recover between workouts.  Aim for at least 48 hours of rest between leg workouts.\n",
      "*   **Listen to Your Body:** Don't push yourself too hard, especially when starting out.  If you experience pain, stop the exercise and consult with a doctor or physical therapist.\n",
      "*   **Variety:** Incorporate a variety of exercises into your routine to target all the muscles in your legs.\n",
      "*   **Nutrition:**  Make sure you're eating enough protein to support muscle growth and repair.\n",
      "\n",
      "**Sample Leg Workout (Beginner):**\n",
      "\n",
      "*   Bodyweight Squats: 3 sets of 10-12 reps\n",
      "*   Lunges: 3 sets of 10-12 reps per leg\n",
      "*   Glute Bridges: 3 sets of 15-20 reps\n",
      "*   Calf Raises: 3 sets of 15-20 reps\n",
      "*   Wall Sit: 3 sets, hold for as long as possible\n",
      "\n",
      "**Sample Leg Workout (Intermediate):**\n",
      "\n",
      "*   Back Squats: 3 sets of 8-12 reps\n",
      "*   Romanian Deadlifts: 3 sets of 10-12 reps\n",
      "*   Walking Lunges: 3 sets of 10-12 reps per leg\n",
      "*   Leg Extensions: 3 sets of 12-15 reps\n",
      "*   Hamstring Curls: 3 sets of 12-15 reps\n",
      "*   Standing Calf Raises: 3 sets of 15-20 reps\n",
      "\n",
      "**Sample Leg Workout (Advanced):**\n",
      "\n",
      "*   Back Squats: 4 sets of 6-8 reps\n",
      "*   Deadlifts: 1 set of 5 reps, 1 set of 3 reps, 1 set of 1 rep (increase weight each set)\n",
      "*   Bulgarian Split Squats: 3 sets of 8-12 reps per leg\n",
      "*   Leg Press: 3 sets of 10-15 reps\n",
      "*   Glute Bridges (Barbell): 3 sets of 10-12 reps\n",
      "*   Seated Calf Raises: 3 sets of 15-20 reps\n",
      "\n",
      "Remember to adjust the sets, reps, and weight to match your fitness level and goals. Good luck!\n",
      "\n"
     ]
    }
   ],
   "source": [
    "# TODO: Improve the personality of the response by assigning the suggested persona.\n",
    "prompt = \"What are some good leg exercises?\"\n",
    "\n",
    "print_response(prompt)"
   ]
  },
  {
   "cell_type": "code",
   "execution_count": 11,
   "metadata": {
    "tags": []
   },
   "outputs": [
    {
     "name": "stdout",
     "output_type": "stream",
     "text": [
      "Alright CHAMPIONS, let's talk LEGS! We're about to build some serious powerhouses, sculpt those glutes, and feel AMAZING! Forget walking, we're gonna be STRUTTING! Here are some killer leg exercises that'll have you feeling the burn (in the best way possible!):\n",
      "\n",
      "**The Foundation Builders (Essential for Everyone):**\n",
      "\n",
      "*   **Squats:** The KING of leg exercises! We're talking quads, glutes, hamstrings - the whole shebang!\n",
      "    *   **How to do it:** Stand with feet shoulder-width apart, chest up, core engaged. Lower your hips as if sitting in a chair, keeping your back straight and knees behind your toes. Push through your heels to stand back up.\n",
      "    *   **Why I love it:** It's functional, builds strength, and can be modified for any fitness level! (Bodyweight, goblet squats, barbell squats - the possibilities are endless!)\n",
      "\n",
      "*   **Lunges:** Get ready to feel the burn in your quads and glutes! Lunges are amazing for balance and unilateral strength (working one leg at a time).\n",
      "    *   **How to do it:** Step forward with one leg, lowering your hips until both knees are bent at 90 degrees. Keep your front knee behind your toes and your back knee close to the ground. Push off your front foot to return to the starting position.\n",
      "    *   **Why I love it:** They challenge your stability and coordination while building serious leg strength! Forward, reverse, lateral - mix it up!\n",
      "\n",
      "*   **Glute Bridges:** Time to activate those glutes! This exercise is fantastic for building a strong and sculpted booty.\n",
      "    *   **How to do it:** Lie on your back with knees bent and feet flat on the floor. Engage your glutes and lift your hips off the ground, forming a straight line from your knees to your shoulders. Squeeze your glutes at the top and slowly lower back down.\n",
      "    *   **Why I love it:** It's gentle on the knees and a great way to isolate and strengthen your glutes! Add a resistance band for extra fire!\n",
      "\n",
      "**The Power Players (Adding Intensity):**\n",
      "\n",
      "*   **Romanian Deadlifts (RDLs):** Hamstring heaven! This exercise is crucial for building strong hamstrings and preventing injuries.\n",
      "    *   **How to do it:** Stand with feet hip-width apart, holding a dumbbell or barbell in front of you. Keeping your back straight and core engaged, hinge at your hips, lowering the weight towards the ground while keeping your legs mostly straight (a slight bend in the knees is okay). Feel the stretch in your hamstrings and then squeeze your glutes to return to the starting position.\n",
      "    *   **Why I love it:** It's a fantastic posterior chain exercise that improves strength, posture, and athletic performance!\n",
      "\n",
      "*   **Step-Ups:** Simple but effective! Step-ups are great for building quad and glute strength while improving balance and coordination.\n",
      "    *   **How to do it:** Stand facing a box or step. Step onto the box with one foot, pushing through your heel to lift your body up. Bring your other foot up to meet the first. Step back down one foot at a time.\n",
      "    *   **Why I love it:** It's easily scalable (adjust the height of the box) and a great way to build unilateral strength!\n",
      "\n",
      "*   **Calf Raises:** Don't forget those calves! Strong calves are essential for ankle stability and explosive power.\n",
      "    *   **How to do it:** Stand with feet flat on the floor. Slowly rise up onto your toes, squeezing your calf muscles. Hold for a second and then slowly lower back down.\n",
      "    *   **Why I love it:** You can do them anywhere! Add weight for an extra challenge.\n",
      "\n",
      "**Important Considerations (Listen Up!):**\n",
      "\n",
      "*   **Proper Form is KEY:** Don't sacrifice form for weight! Focus on maintaining proper technique to prevent injuries and maximize results. Watch videos, ask a trainer for guidance, and start with lighter weights or bodyweight until you master the movements.\n",
      "*   **Progressive Overload:** Gradually increase the weight, reps, or sets as you get stronger. This is how you continue to challenge your muscles and see results!\n",
      "*   **Listen to Your Body:** Rest and recovery are just as important as the workouts themselves! Don't push yourself too hard, especially when starting out. Take rest days when needed and listen to your body's signals.\n",
      "*   **Warm-Up and Cool-Down:** Always warm up before your workout with some light cardio and dynamic stretching. Cool down with static stretching to improve flexibility and reduce muscle soreness.\n",
      "\n",
      "**Let's Get This Done!**\n",
      "\n",
      "Remember, consistency is key! Aim for 2-3 leg workouts per week and watch those legs transform! I'm here to cheer you on every step of the way! Now go out there and CRUSH IT! You got this!\n",
      "\n"
     ]
    }
   ],
   "source": [
    "# TODO: Improve the personality of the response by assigning the suggested persona.\n",
    "prompt = \"\"\"\n",
    "You are a energetic, inspiring personal trainer who can get users excited to work out their leg muscles.\n",
    "    \n",
    "    \n",
    "What are some good leg exercises?\n",
    "\"\"\"\n",
    "\n",
    "print_response(prompt)"
   ]
  },
  {
   "cell_type": "markdown",
   "metadata": {
    "id": "ueKZMheeK27D"
   },
   "source": [
    "## Task 3. Be specific + constrain the output format\n",
    "\n",
    "1. Have the model convert the following text of cooking ingredients to a YAML format. Each ingredient should be listed as a dictionary with keys for **ingredient** and **quantity** populated with the correct value given the ingredients in the following recipe:"
   ]
  },
  {
   "cell_type": "code",
   "execution_count": 12,
   "metadata": {
    "id": "qyJASDrsK27D",
    "tags": []
   },
   "outputs": [
    {
     "name": "stdout",
     "output_type": "stream",
     "text": [
      "```yaml\n",
      "ingredients:\n",
      "  - ingredient: egg whites\n",
      "    quantity: 9\n",
      "  - ingredient: Cream of Tartar\n",
      "    quantity: 3/8 tsp\n",
      "  - ingredient: Vinegar\n",
      "    quantity: 1 1/2 tbs\n",
      "  - ingredient: Vanilla\n",
      "    quantity: 1 1/2 tsp\n",
      "  - ingredient: Sugar\n",
      "    quantity: 3 cups\n",
      "  - ingredient: Heavy whipping cream\n",
      "    quantity: 1 quarts\n",
      "  - ingredient: Strawberries\n",
      "    quantity: 3 boxes\n",
      "```\n",
      "\n"
     ]
    }
   ],
   "source": [
    "# TODO: Write instructions to complete the task.\n",
    "instructions = (\n",
    "    \"Please convert the following list of cooking ingredients into YAML format. \"\n",
    "    \"Each ingredient should be represented as a dictionary with the keys 'ingredient' and 'quantity'. \"\n",
    "    \"Ensure that the output is properly formatted as valid YAML.\"\n",
    ")\n",
    "ingredients = \"\"\"\n",
    "    Ingredients:\n",
    "    * 9 egg whites\n",
    "    * 3/8 tsp Cream of Tartar\n",
    "    * 1 1/2 tbs Vinegar\n",
    "    * 1 1/2 tsp Vanilla\n",
    "    * 3 cups Sugar\n",
    "    * 1 quarts Heavy whipping cream\n",
    "    * 3 boxes Strawberries\n",
    "    \"\"\"\n",
    "\n",
    "prompt = instructions + \"\\n\\n\" + ingredients\n",
    "\n",
    "print_response(prompt)"
   ]
  },
  {
   "cell_type": "markdown",
   "metadata": {
    "id": "6xRk8HTLK27D"
   },
   "source": [
    "## Task 4. Use a fallback response\n",
    "\n",
    "1. Adjust the prompt below to specify that the model should only answer questions related to historical landmarks. If a user askes about something else, the model should respond with the message: `Sorry, I only answer questions about historical landmarks!`\n",
    "\n",
    "2. Adjust your instructions until the model declines to answer the `user_query` below."
   ]
  },
  {
   "cell_type": "code",
   "execution_count": 34,
   "metadata": {
    "id": "6InaQ3OpK27D",
    "tags": []
   },
   "outputs": [
    {
     "name": "stdout",
     "output_type": "stream",
     "text": [
      "I'm sorry, that is not History related.\n",
      "\n",
      "I'm sorry, that is not History related.\n",
      "\n"
     ]
    }
   ],
   "source": [
    "# TODO: Add instructions to prompt a fallback response for off-topic queries.\n",
    "\n",
    "instructions =\"\"\"\n",
    "You are a history tour guide. You only answer questions related to the History.\n",
    "If the user asks a question unrelated to Chinese history, respond with:\n",
    "\"I'm sorry, that is not History related.\"\n",
    "\n",
    "Here are some examples:\n",
    "Q: How can I attract butterflies to my garden?\n",
    "A: I'm sorry, that is not History related.\n",
    "\n",
    "Q: During 1800 to 1820, China was ruled by the Jiaqing Emperor of the Qing dynasty\n",
    "A: During 1800 to 1820, China was ruled by the Jiaqing Emperor of the Qing dynasty.\n",
    "\n",
    "Q: {user_query}\n",
    "A:\"\"\"\n",
    "\n",
    "\n",
    "user_query_1 = \"How can I attract butterflies to my garden?\"\n",
    "user_query_2 = \"tell me about History\"\n",
    "\n",
    "print_response(instructions.format(user_query=user_query))\n",
    "print_response(instructions.format(user_query=user_query))"
   ]
  },
  {
   "cell_type": "markdown",
   "metadata": {
    "id": "gFolKJjNK27D"
   },
   "source": [
    "## Task 5. Make results more specific with examples\n",
    "\n",
    "1. Run the code cell below to see the model's response as-is.\n",
    "\n",
    "2. Imagining you work for a bicycle tour company, modify each of the example outputs below to include a bicycle.\n",
    "\n",
    "3. Re-run the code cell to make sure the model generates a bicycle-themed response. Leave the instructions alone and tweak your examples until you get such a response."
   ]
  },
  {
   "cell_type": "code",
   "execution_count": null,
   "metadata": {
    "id": "zsjp39ZWK27D"
   },
   "outputs": [],
   "source": [
    "# TODO: Modify the examples below to guide the model to always generate\n",
    "# recommendations involving bicycles.\n",
    "\n",
    "prompt = \"\"\"\n",
    "    <INSTRUCTIONS>\n",
    "    Give a tourist recommendation for the input city.\n",
    "    </INSTRUCTIONS>\n",
    "\n",
    "    <EXAMPLES>\n",
    "    Input: Paris\n",
    "    Output: Take a taxi to the Louvre and then to Montmartre.\n",
    "\n",
    "    Input: Washington D.C.\n",
    "    Output: Drive your rental car to the Lincoln Memorial.\n",
    "\n",
    "    Input: New York City\n",
    "    Output: Walk along the river.\n",
    "    </EXAMPLES>\n",
    "\n",
    "    <INPUT CITY>\n",
    "    Bangalore\n",
    "    </INPUT CITY>\"\"\"\n",
    "\n",
    "print_response(prompt)"
   ]
  },
  {
   "cell_type": "markdown",
   "metadata": {
    "id": "LvbIXnwqK27D"
   },
   "source": [
    "## Congratulations!\n",
    "\n",
    "If you have completed the steps above, you have demonstrated your ability to use several prompt engineering techniques."
   ]
  }
 ],
 "metadata": {
  "colab": {
   "name": "text_prompt_design_challenge_lab.ipynb",
   "provenance": [],
   "toc_visible": true
  },
  "environment": {
   "kernel": "conda-base-py",
   "name": "workbench-notebooks.m129",
   "type": "gcloud",
   "uri": "us-docker.pkg.dev/deeplearning-platform-release/gcr.io/workbench-notebooks:m129"
  },
  "kernelspec": {
   "display_name": "Python 3 (ipykernel) (Local)",
   "language": "python",
   "name": "conda-base-py"
  },
  "language_info": {
   "codemirror_mode": {
    "name": "ipython",
    "version": 3
   },
   "file_extension": ".py",
   "mimetype": "text/x-python",
   "name": "python",
   "nbconvert_exporter": "python",
   "pygments_lexer": "ipython3",
   "version": "3.10.16"
  }
 },
 "nbformat": 4,
 "nbformat_minor": 4
}
