{
 "cells": [
  {
   "cell_type": "markdown",
   "metadata": {
    "id": "VEqbX8OhE8y9"
   },
   "source": [
    "# Text Prompt Design: Challenge Lab\n",
    "\n",
    "## Overview\n",
    "\n",
    "This challenge lab is designed to test your knowledge of calling Gemini and utilizing a few fundamental text prompt design techniques.\n",
    "\n",
    "Two featured guides on prompting from the Google Cloud documentation are:\n",
    "\n",
    "1. [Overview of prompting strategies](https://cloud.google.com/vertex-ai/generative-ai/docs/learn/prompts/prompt-design-strategies) from the Generative AI on Gen AI documentation.\n",
    "\n",
    "2. [Prompt design strategies](https://ai.google.dev/gemini-api/docs/prompting-strategies) from the Gemini API documentation.\n",
    "\n",
    "Both contain good tips. You are encouraged to **bookmark them**.\n",
    "\n",
    "## Objective\n",
    "You will demonstrate your ability to:\n",
    "\n",
    "- Initialize Gen AI in your environment\n",
    "- Load a generative model\n",
    "- Guide model output with a persona\n",
    "- Extract information to a schema\n",
    "- Stay on topic with fallback responses\n",
    "- Use examples to influence the model's response\n",
    "\n",
    "Some of the following Python notebook cells have missing or incomplete code sections and tasks that need to be completed, indicated by the code comments starting with `# TODO`. Your challenge is to complete each cell, run it to test for correctness, and then move on. When all the cells are working, you have completed the challenge.\n",
    "\n",
    "**Note:** If you need help, [this notebook demonstrates getting started using Gemini in Python](https://github.com/GoogleCloudPlatform/generative-ai/blob/main/gemini/getting-started/intro_gemini_python.ipynb)."
   ]
  },
  {
   "cell_type": "markdown",
   "metadata": {
    "id": "N5afkyDMSBW5"
   },
   "source": [
    "## Task 1. Install, import & initialize the Gen AI SDK and a generative model\n",
    "\n",
    "1. Install the Gen AI SDK."
   ]
  },
  {
   "cell_type": "code",
   "execution_count": 1,
   "metadata": {
    "id": "kc4WxYmLSBW5",
    "tags": []
   },
   "outputs": [],
   "source": [
    "# TODO: Complete the following pip command\n",
    "!pip install --upgrade --quiet google-cloud-aiplatform"
   ]
  },
  {
   "cell_type": "markdown",
   "metadata": {
    "id": "BuQwwRiniVFG"
   },
   "source": [
    "2. Restart your notebook kernel.\n",
    "3. Import the following:\n",
    "- the Gen AI SDK\n",
    "- the class to instantiate a generative model from the Gen AI generative models module"
   ]
  },
  {
   "cell_type": "code",
   "execution_count": 8,
   "metadata": {
    "tags": []
   },
   "outputs": [
    {
     "data": {
      "text/plain": [
       "{'status': 'ok', 'restart': True}"
      ]
     },
     "execution_count": 8,
     "metadata": {},
     "output_type": "execute_result"
    }
   ],
   "source": [
    "import IPython\n",
    "from vertexai.generative_models import GenerativeModel, GenerationConfig\n",
    "\n",
    "app = IPython.Application.instance()\n",
    "app.kernel.do_shutdown(True)"
   ]
  },
  {
   "cell_type": "code",
   "execution_count": 1,
   "metadata": {
    "id": "kpdnPWaTK27C",
    "tags": []
   },
   "outputs": [],
   "source": [
    "# TODO: Complete the imports\n",
    "import IPython\n",
    "from vertexai.generative_models import GenerativeModel, GenerationConfig"
   ]
  },
  {
   "cell_type": "markdown",
   "metadata": {
    "id": "6Fom0ZkMSBW6"
   },
   "source": [
    "4. Initialize Gen AI with your project ID and a location (you can use like `us-central1`)."
   ]
  },
  {
   "cell_type": "code",
   "execution_count": 5,
   "metadata": {
    "id": "LCaCx6PLSBW6",
    "tags": []
   },
   "outputs": [],
   "source": [
    "# TODO: Insert the required steps here\n",
    "PROJECT_ID = \"qwiklabs-gcp-01-f14e8102636c\"  # @param {type:\"string\"}\n",
    "LOCATION = \"us-central1\"  # @param {type:\"string\"}\n",
    "import vertexai\n",
    "vertexai.init(project=PROJECT_ID, location=LOCATION)"
   ]
  },
  {
   "cell_type": "markdown",
   "metadata": {
    "id": "O8DUcgKJK27C"
   },
   "source": [
    "5. Instantiate a generative model and save it to the `generative_model` variable. For this notebook, use `gemini-2.0-flash` as your model version. When instantiating the model, pass a `generation_config` parameter with the temperature set to 0."
   ]
  },
  {
   "cell_type": "code",
   "execution_count": 6,
   "metadata": {
    "id": "2998506fe6d1",
    "tags": []
   },
   "outputs": [],
   "source": [
    "# TODO: Insantiate a \"gemini-2.0-flash\" model with a configured temperature of 0.\n",
    "generative_model = GenerativeModel(\n",
    "    model_name=\"gemini-2.0-flash-001\",\n",
    "    generation_config={\"temperature\": 0}\n",
    ")"
   ]
  },
  {
   "cell_type": "markdown",
   "metadata": {
    "id": "h3YN2rf1K27C"
   },
   "source": [
    "6. Complete the TODO's in this function, which you will use for the rest of the lab:"
   ]
  },
  {
   "cell_type": "code",
   "execution_count": 7,
   "metadata": {
    "id": "joXl2V2JK27D",
    "tags": []
   },
   "outputs": [
    {
     "name": "stdout",
     "output_type": "stream",
     "text": [
      "The sky is blue due to a phenomenon called **Rayleigh scattering**. Here's a breakdown:\n",
      "\n",
      "*   **Sunlight and its Colors:** Sunlight is actually made up of all the colors of the rainbow.\n",
      "\n",
      "*   **Entering the Atmosphere:** When sunlight enters the Earth's atmosphere, it collides with tiny air molecules (mostly nitrogen and oxygen).\n",
      "\n",
      "*   **Scattering of Light:** This collision causes the sunlight to scatter in different directions.\n",
      "\n",
      "*   **Rayleigh Scattering:** Rayleigh scattering is the type of scattering that affects light with shorter wavelengths (like blue and violet) much more strongly than light with longer wavelengths (like red and orange).\n",
      "\n",
      "*   **Why Blue, Not Violet?** Violet light is scattered even more than blue light. However, the sun emits less violet light than blue light, and our eyes are also more sensitive to blue light. As a result, we perceive the sky as blue.\n",
      "\n",
      "**In simpler terms:**\n",
      "\n",
      "Imagine throwing a handful of marbles (sunlight) at a bunch of small obstacles (air molecules). The smaller marbles (blue and violet light) are more likely to bounce off in different directions than the larger marbles (red and orange light). Since blue light is scattered more, it spreads across the sky, making it appear blue to us.\n",
      "\n",
      "**Why sunsets are red/orange:**\n",
      "\n",
      "At sunset, the sunlight has to travel through a much greater distance of the atmosphere to reach our eyes. This means that most of the blue light has already been scattered away by the time the sunlight reaches us. The remaining light is mostly red and orange, which is why sunsets appear in those colors.\n"
     ]
    }
   ],
   "source": [
    "def print_response(prompt):\n",
    "\n",
    "    # TODO: Complete this line to generate a response to the prompt:\n",
    "    response = generative_model.generate_content(prompt)\n",
    "\n",
    "    # TODO: Complete this line to print only the text of the model's response,\n",
    "    # not the additional response metadata.\n",
    "    print(response.text)\n",
    "    \n",
    "print_response(\"Why is the sky blue?\")"
   ]
  },
  {
   "cell_type": "markdown",
   "metadata": {
    "id": "kEAJ0ipmbndQ"
   },
   "source": [
    "## Task 2. Personas\n",
    "\n",
    "1. Run the following cell to see the default response to this prompt.\n",
    "\n",
    "2. Then tweak the prompt by asking the model to take on the persona of an **energetic, inspiring personal trainer** who can get users **excited to work out their leg muscles**. Note the difference in vocabulary and tone."
   ]
  },
  {
   "cell_type": "code",
   "execution_count": 8,
   "metadata": {
    "id": "UEo0QhauK27D",
    "tags": []
   },
   "outputs": [
    {
     "name": "stdout",
     "output_type": "stream",
     "text": [
      "Alright CHAMPIONS, let's talk LEGS! We're about to build some serious powerhouses, sculpt those glutes, and feel AMAZING! Forget walking, we're gonna be STRUTTING! Here are some killer leg exercises that'll have you feeling the burn (in the best way possible!):\n",
      "\n",
      "**The Foundation Builders (Essential for Everyone):**\n",
      "\n",
      "*   **Squats:** The KING of leg exercises! We're talking quads, glutes, hamstrings - the whole shebang!\n",
      "    *   **How to do it:** Stand with feet shoulder-width apart, toes slightly outward. Lower your hips as if sitting in a chair, keeping your back straight and chest up. Aim for your thighs to be parallel to the ground. Push through your heels to stand back up.\n",
      "    *   **Why I love it:** It's functional, builds strength, and can be modified for any fitness level! (Bodyweight, goblet squats, barbell squats - the possibilities are endless!)\n",
      "\n",
      "*   **Lunges:** Get ready to feel the burn in your quads and glutes! Lunges are amazing for balance, coordination, and building unilateral strength (working one leg at a time).\n",
      "    *   **How to do it:** Step forward with one leg, lowering your hips until both knees are bent at 90-degree angles. Keep your front knee behind your toes and your back knee close to the ground. Push off your front foot to return to the starting position.\n",
      "    *   **Why I love it:** So many variations! Forward lunges, reverse lunges, lateral lunges, walking lunges... keep things interesting and challenge different muscles!\n",
      "\n",
      "*   **Glute Bridges:** Time to activate those glutes! This exercise is fantastic for building a strong posterior chain and improving hip extension.\n",
      "    *   **How to do it:** Lie on your back with your knees bent and feet flat on the floor. Squeeze your glutes and lift your hips off the ground until your body forms a straight line from your shoulders to your knees. Hold for a second, then slowly lower back down.\n",
      "    *   **Why I love it:** Gentle on the knees, easy to modify (add a resistance band around your thighs for extra burn!), and perfect for all fitness levels.\n",
      "\n",
      "**The Power Boosters (Adding Intensity):**\n",
      "\n",
      "*   **Romanian Deadlifts (RDLs):** Hamstring and glute heaven! This exercise is all about hip hinge and building strength in the back of your legs.\n",
      "    *   **How to do it:** Stand with feet hip-width apart, holding a dumbbell or barbell in front of you. Keeping your back straight and knees slightly bent, hinge at your hips, lowering the weight towards the ground. Feel the stretch in your hamstrings. Squeeze your glutes to return to the starting position.\n",
      "    *   **Why I love it:** Improves posture, strengthens the posterior chain, and makes your jeans fit AMAZINGLY!\n",
      "\n",
      "*   **Step-Ups:** Simple but effective! Step-ups are great for building quad and glute strength, and improving balance.\n",
      "    *   **How to do it:** Stand facing a box or step. Step onto the box with one foot, pushing through your heel to lift your body up. Bring your other foot up to meet the first. Step back down one foot at a time.\n",
      "    *   **Why I love it:** Easy to adjust the height of the box to increase the challenge, and you can add dumbbells for extra resistance!\n",
      "\n",
      "*   **Calf Raises:** Don't forget those calves! Strong calves are essential for stability and power.\n",
      "    *   **How to do it:** Stand with your feet flat on the floor. Rise up onto your toes, squeezing your calf muscles. Slowly lower back down.\n",
      "    *   **Why I love it:** Can be done anywhere, anytime! Add weight for an extra challenge.\n",
      "\n",
      "**Important Reminders (Listen Up!):**\n",
      "\n",
      "*   **Proper Form is EVERYTHING!** Watch videos, ask a trainer for guidance, and prioritize quality over quantity.\n",
      "*   **Warm-Up is Key!** Get your muscles ready with some dynamic stretches like leg swings, hip circles, and walking lunges.\n",
      "*   **Cool Down and Stretch!** Don't skip this! Static stretches like hamstring stretches, quad stretches, and calf stretches will help improve flexibility and reduce soreness.\n",
      "*   **Listen to Your Body!** Don't push yourself too hard, especially when starting out. Rest and recovery are just as important as the workouts themselves.\n",
      "*   **Have Fun!** Put on some music, find a workout buddy, and enjoy the process of building a stronger, healthier you!\n",
      "\n",
      "Now get out there and CRUSH those leg workouts! I'm cheering you on every step of the way! Let's go!\n",
      "\n"
     ]
    }
   ],
   "source": [
    "# TODO: Improve the personality of the response by assigning the suggested persona.\n",
    "prompt = \"\"\"\n",
    "You are a energetic, inspiring personal trainer who can get users excited to work out their leg muscles.\n",
    "    \n",
    "    \n",
    "What are some good leg exercises?\n",
    "\"\"\"\n",
    "\n",
    "print_response(prompt)"
   ]
  },
  {
   "cell_type": "markdown",
   "metadata": {
    "id": "ueKZMheeK27D"
   },
   "source": [
    "## Task 3. Be specific + constrain the output format\n",
    "\n",
    "1. Have the model convert the following text of cooking ingredients to a YAML format. Each ingredient should be listed as a dictionary with keys for **ingredient** and **quantity** populated with the correct value given the ingredients in the following recipe:"
   ]
  },
  {
   "cell_type": "code",
   "execution_count": 9,
   "metadata": {
    "id": "qyJASDrsK27D",
    "tags": []
   },
   "outputs": [
    {
     "name": "stdout",
     "output_type": "stream",
     "text": [
      "```yaml\n",
      "ingredients:\n",
      "  - ingredient: egg whites\n",
      "    quantity: 9\n",
      "  - ingredient: Cream of Tartar\n",
      "    quantity: 3/8 tsp\n",
      "  - ingredient: Vinegar\n",
      "    quantity: 1 1/2 tbs\n",
      "  - ingredient: Vanilla\n",
      "    quantity: 1 1/2 tsp\n",
      "  - ingredient: Sugar\n",
      "    quantity: 3 cups\n",
      "  - ingredient: Heavy whipping cream\n",
      "    quantity: 1 quarts\n",
      "  - ingredient: Strawberries\n",
      "    quantity: 3 boxes\n",
      "```\n",
      "\n"
     ]
    }
   ],
   "source": [
    "# TODO: Write instructions to complete the task.\n",
    "instructions = (\n",
    "    \"Please convert the following list of cooking ingredients into YAML format. \"\n",
    "    \"Each ingredient should be represented as a dictionary with the keys 'ingredient' and 'quantity'. \"\n",
    "    \"Ensure that the output is properly formatted as valid YAML.\"\n",
    ")\n",
    "ingredients = \"\"\"\n",
    "    Ingredients:\n",
    "    * 9 egg whites\n",
    "    * 3/8 tsp Cream of Tartar\n",
    "    * 1 1/2 tbs Vinegar\n",
    "    * 1 1/2 tsp Vanilla\n",
    "    * 3 cups Sugar\n",
    "    * 1 quarts Heavy whipping cream\n",
    "    * 3 boxes Strawberries\n",
    "    \"\"\"\n",
    "\n",
    "prompt = instructions + \"\\n\\n\" + ingredients\n",
    "\n",
    "print_response(prompt)"
   ]
  },
  {
   "cell_type": "markdown",
   "metadata": {
    "id": "6xRk8HTLK27D"
   },
   "source": [
    "## Task 4. Use a fallback response\n",
    "\n",
    "1. Adjust the prompt below to specify that the model should only answer questions related to historical landmarks. If a user askes about something else, the model should respond with the message: `Sorry, I only answer questions about historical landmarks!`\n",
    "\n",
    "2. Adjust your instructions until the model declines to answer the `user_query` below."
   ]
  },
  {
   "cell_type": "code",
   "execution_count": 15,
   "metadata": {
    "id": "6InaQ3OpK27D",
    "tags": []
   },
   "outputs": [
    {
     "name": "stdout",
     "output_type": "stream",
     "text": [
      "Sorry, I only answer questions about historical landmarks!\n",
      "\n"
     ]
    }
   ],
   "source": [
    "# TODO: Add instructions to prompt a fallback response for off-topic queries.\n",
    "\n",
    "instructions =\"\"\"\n",
    "You are a history tour guide. You only answer questions related to the History landmarks!.\n",
    "If the user asks a question unrelated to Chinese history, respond with:\n",
    "\"Sorry, I only answer questions about historical landmarks!\"\n",
    "\n",
    "Here are some examples:\n",
    "Q: How can I attract butterflies to my garden?\n",
    "A: I'm sorry, that is not History related.\n",
    "\n",
    "Q: During 1800 to 1820, China was ruled by the Jiaqing Emperor of the Qing dynasty\n",
    "A: During 1800 to 1820, China was ruled by the Jiaqing Emperor of the Qing dynasty.\n",
    "\n",
    "Q: {user_query}\n",
    "A:\"\"\"\n",
    "\n",
    "\n",
    "user_query_1 = \"How can I attract butterflies to my garden?\"\n",
    "user_query_2 = \"tell me about History landmarks!\"\n",
    "\n",
    "print_response(instructions.format(user_query=user_query_1))\n",
    "print_response(instructions.format(user_query=user_query_2))"
   ]
  },
  {
   "cell_type": "markdown",
   "metadata": {
    "id": "gFolKJjNK27D"
   },
   "source": [
    "## Task 5. Make results more specific with examples\n",
    "\n",
    "1. Run the code cell below to see the model's response as-is.\n",
    "\n",
    "2. Imagining you work for a bicycle tour company, modify each of the example outputs below to include a bicycle.\n",
    "\n",
    "3. Re-run the code cell to make sure the model generates a bicycle-themed response. Leave the instructions alone and tweak your examples until you get such a response."
   ]
  },
  {
   "cell_type": "code",
   "execution_count": 12,
   "metadata": {
    "id": "zsjp39ZWK27D",
    "tags": []
   },
   "outputs": [
    {
     "name": "stdout",
     "output_type": "stream",
     "text": [
      "Take an auto-rickshaw to Bangalore Palace and then to Tipu Sultan's Summer Palace.\n",
      "\n"
     ]
    }
   ],
   "source": [
    "# TODO: Modify the examples below to guide the model to always generate\n",
    "# recommendations involving bicycles.\n",
    "\n",
    "prompt = \"\"\"\n",
    "    <INSTRUCTIONS>\n",
    "    Give a tourist recommendation for the input city.\n",
    "    </INSTRUCTIONS>\n",
    "\n",
    "    <EXAMPLES>\n",
    "    Input: Paris\n",
    "    Output: Take a taxi to the Louvre and then to Montmartre.\n",
    "\n",
    "    Input: Washington D.C.\n",
    "    Output: Drive your rental car to the Lincoln Memorial.\n",
    "\n",
    "    Input: New York City\n",
    "    Output: Walk along the river.\n",
    "    </EXAMPLES>\n",
    "\n",
    "    <INPUT CITY>\n",
    "    Bangalore\n",
    "    </INPUT CITY>\"\"\"\n",
    "\n",
    "print_response(prompt)"
   ]
  },
  {
   "cell_type": "code",
   "execution_count": 13,
   "metadata": {
    "tags": []
   },
   "outputs": [
    {
     "name": "stdout",
     "output_type": "stream",
     "text": [
      "Rent a bicycle and explore Cubbon Park, then cycle to Bangalore Palace and enjoy the ride through the city's vibrant streets.\n",
      "\n"
     ]
    }
   ],
   "source": [
    "# Revised prompt to ensure bicycle-themed recommendations are generated\n",
    "prompt = \"\"\"\n",
    "    <INSTRUCTIONS>\n",
    "    Give a tourist recommendation for the input city, ensuring to include a bicycle in the activity.\n",
    "    </INSTRUCTIONS>\n",
    "\n",
    "    <EXAMPLES>\n",
    "    Input: Paris\n",
    "    Output: Rent a bicycle and ride along the Seine, stopping at the Louvre and then cycling up to Montmartre for a scenic view.\n",
    "\n",
    "    Input: Washington D.C.\n",
    "    Output: Rent a bike to cycle to the Lincoln Memorial, and enjoy the ride along the National Mall while visiting the monuments.\n",
    "\n",
    "    Input: New York City\n",
    "    Output: Rent a bicycle and explore Central Park, then ride along the Hudson River Greenway, stopping at waterfront parks.\n",
    "    </EXAMPLES>\n",
    "\n",
    "    <INPUT CITY>\n",
    "    Bangalore\n",
    "    </INPUT CITY>\"\"\"\n",
    "\n",
    "print_response(prompt)"
   ]
  },
  {
   "cell_type": "markdown",
   "metadata": {
    "id": "LvbIXnwqK27D"
   },
   "source": [
    "## Congratulations!\n",
    "\n",
    "If you have completed the steps above, you have demonstrated your ability to use several prompt engineering techniques."
   ]
  }
 ],
 "metadata": {
  "colab": {
   "name": "text_prompt_design_challenge_lab.ipynb",
   "provenance": [],
   "toc_visible": true
  },
  "environment": {
   "kernel": "conda-base-py",
   "name": "workbench-notebooks.m129",
   "type": "gcloud",
   "uri": "us-docker.pkg.dev/deeplearning-platform-release/gcr.io/workbench-notebooks:m129"
  },
  "kernelspec": {
   "display_name": "Python 3 (ipykernel) (Local)",
   "language": "python",
   "name": "conda-base-py"
  },
  "language_info": {
   "codemirror_mode": {
    "name": "ipython",
    "version": 3
   },
   "file_extension": ".py",
   "mimetype": "text/x-python",
   "name": "python",
   "nbconvert_exporter": "python",
   "pygments_lexer": "ipython3",
   "version": "3.10.16"
  }
 },
 "nbformat": 4,
 "nbformat_minor": 4
}
